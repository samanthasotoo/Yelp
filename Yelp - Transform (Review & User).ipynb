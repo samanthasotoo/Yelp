{
 "cells": [
  {
   "cell_type": "code",
   "execution_count": null,
   "id": "bdc8f86b",
   "metadata": {},
   "outputs": [],
   "source": [
    "from datetime import datetime, timedelta\n",
    "import calendar\n",
    "import boto3\n",
    "from botocore.exceptions import NoCredentialsError\n",
    "import pandas as pd\n",
    "from io import StringIO\n",
    "from pyspark.sql import SparkSession\n",
    "import pandas as pd "
   ]
  },
  {
   "cell_type": "code",
   "execution_count": null,
   "id": "b37712ea",
   "metadata": {},
   "outputs": [],
   "source": [
    "import os\n",
    "# To work with Amazon S3 storage, set the following variables using your AWS Access Key and Secret Key\n",
    "# Set the Region to where your files are stored in S3.\n",
    "access_key = 'abc'\n",
    "secret_key = 'abc'\n",
    "# Set the environment variables so boto3 can pick them up later\n",
    "os.environ['AWS_ACCESS_KEY_ID'] = access_key\n",
    "os.environ['AWS_SECRET_ACCESS_KEY'] = secret_key\n",
    "encoded_secret_key = secret_key.replace(\"/\", \"%2F\")\n",
    "aws_region = \"us-east-2\"\n",
    "# Set this to the name of your bucket where the files are stored\n",
    "aws_bucket_name = \"yelp-review-ss\"\n",
    "mount_name = \"s3dataread\""
   ]
  },
  {
   "cell_type": "markdown",
   "id": "cd199d96",
   "metadata": {},
   "source": [
    "Run this on databricks or EC2 Instance"
   ]
  },
  {
   "cell_type": "code",
   "execution_count": null,
   "id": "e33fa14a",
   "metadata": {},
   "outputs": [],
   "source": [
    "# Update the Spark options to work with our AWS Credentials\n",
    "sc._jsc.hadoopConfiguration().set(\"fs.s3a.access.key\", access_key)\n",
    "sc._jsc.hadoopConfiguration().set(\"fs.s3a.secret.key\", secret_key)\n",
    "sc._jsc.hadoopConfiguration().set(\"fs.s3a.endpoint\", \"s3.\" + aws_region +\n",
    "\".amazonaws.com\")"
   ]
  },
  {
   "cell_type": "code",
   "execution_count": null,
   "id": "7e912b35",
   "metadata": {},
   "outputs": [],
   "source": [
    "spark = SparkSession.builder.appName(\"yelpr\").getOrCreate()"
   ]
  },
  {
   "cell_type": "markdown",
   "id": "a078678e",
   "metadata": {},
   "source": [
    "# Transforming User"
   ]
  },
  {
   "cell_type": "code",
   "execution_count": null,
   "id": "01d6cf11",
   "metadata": {},
   "outputs": [],
   "source": [
    "# Path to Amazon S3 files\n",
    "yelp_user_file = \"s3a://yelp-review-ss/yelp_academic_dataset_user.json\"\n",
    "\n",
    "df_user = spark.read.json(yelp_user_file)"
   ]
  },
  {
   "cell_type": "code",
   "execution_count": null,
   "id": "ac8767b9",
   "metadata": {},
   "outputs": [],
   "source": [
    "df_user = df_user.select('user_id','name','review_count','yelping_since','friends','useful','funny','cool','fans')\n",
    "df_user= df_user.dropDuplicates([\"user_id\"])"
   ]
  },
  {
   "cell_type": "code",
   "execution_count": null,
   "id": "f9076ee6",
   "metadata": {},
   "outputs": [],
   "source": [
    "# this will make it easier to convert to CSV\n",
    "pd_user = df_user.toPandas()"
   ]
  },
  {
   "cell_type": "code",
   "execution_count": null,
   "id": "bf4b1bae",
   "metadata": {},
   "outputs": [],
   "source": [
    "pd_user['yelping_since'] = pd.to_datetime(pd_user['yelping_since'])\n",
    "pd_user.info()"
   ]
  },
  {
   "cell_type": "code",
   "execution_count": null,
   "id": "1ccc2224",
   "metadata": {},
   "outputs": [],
   "source": [
    "# File is too big; need to convert to two \n",
    "df_user_part1 = pd_user.iloc[:len(pd_user)//2]\n",
    "df_user_part2 = pd_user.iloc[len(pd_user)//2:]"
   ]
  },
  {
   "cell_type": "code",
   "execution_count": null,
   "id": "2379ca04",
   "metadata": {},
   "outputs": [],
   "source": [
    "# Convert DataFrames to CSV-formatted strings\n",
    "csv_buffer_part1 = StringIO()\n",
    "df_user_part1.to_csv(csv_buffer_part1, index=False)\n",
    "\n",
    "csv_buffer_part2 = StringIO()\n",
    "df_user_part2.to_csv(csv_buffer_part2, index=False)\n"
   ]
  },
  {
   "cell_type": "markdown",
   "id": "d67776f5",
   "metadata": {},
   "source": [
    "Store in S3"
   ]
  },
  {
   "cell_type": "code",
   "execution_count": null,
   "id": "56975829",
   "metadata": {},
   "outputs": [],
   "source": [
    "# Upload to S3\n",
    "s3_key_part1 = 'clean/dim_user1.csv'\n",
    "s3_key_part2 = 'clean/dim_user2.csv'\n",
    "\n",
    "s3_client = boto3.client('s3')\n",
    "s3_client.put_object(Body=csv_buffer_part1.getvalue(), Bucket=aws_bucket_name, Key=s3_key_part1)\n",
    "s3_client.put_object(Body=csv_buffer_part2.getvalue(), Bucket=aws_bucket_name, Key=s3_key_part2)"
   ]
  },
  {
   "cell_type": "markdown",
   "id": "76cc4772",
   "metadata": {},
   "source": [
    "# Transforming Review (biggest file)"
   ]
  },
  {
   "cell_type": "code",
   "execution_count": null,
   "id": "453595a7",
   "metadata": {},
   "outputs": [],
   "source": [
    "yelp_review_file = \"s3a://yelp-review-ss/yelp_academic_dataset_review.json\"\n",
    "\n",
    "df_review = spark.read.json(yelp_review_file)"
   ]
  },
  {
   "cell_type": "code",
   "execution_count": null,
   "id": "10a5f182",
   "metadata": {},
   "outputs": [],
   "source": [
    "df_review = df_review.drop('text')\n",
    "df_review = df_review.dropDuplicates([\"review_id\"])"
   ]
  },
  {
   "cell_type": "code",
   "execution_count": null,
   "id": "ac9901f4",
   "metadata": {},
   "outputs": [],
   "source": [
    "pandas_df = df_review.toPandas()"
   ]
  },
  {
   "cell_type": "code",
   "execution_count": null,
   "id": "2ca760db",
   "metadata": {},
   "outputs": [],
   "source": [
    "pandas_df['date'] = pd.to_datetime(pandas_df['date'])\n",
    "pandas_df.info()"
   ]
  },
  {
   "cell_type": "code",
   "execution_count": null,
   "id": "7fdb28fa",
   "metadata": {},
   "outputs": [],
   "source": [
    "column_order = ['review_id','user_id','business_id','date','useful','funny','cool','stars']\n",
    "pandas_df = pandas_df[column_order]"
   ]
  }
 ],
 "metadata": {
  "kernelspec": {
   "display_name": "Python 3 (ipykernel)",
   "language": "python",
   "name": "python3"
  },
  "language_info": {
   "codemirror_mode": {
    "name": "ipython",
    "version": 3
   },
   "file_extension": ".py",
   "mimetype": "text/x-python",
   "name": "python",
   "nbconvert_exporter": "python",
   "pygments_lexer": "ipython3",
   "version": "3.11.5"
  }
 },
 "nbformat": 4,
 "nbformat_minor": 5
}
