{
 "cells": [
  {
   "cell_type": "code",
   "execution_count": 1,
   "id": "bed2b190",
   "metadata": {},
   "outputs": [],
   "source": [
    "import boto3\n",
    "from botocore.exceptions import NoCredentialsError\n",
    "import pandas as pd\n",
    "from io import StringIO\n",
    "import json\n",
    "import requests"
   ]
  },
  {
   "cell_type": "code",
   "execution_count": null,
   "id": "5544ea9b",
   "metadata": {},
   "outputs": [],
   "source": [
    "# AWS Creditentials\n",
    "aws_access_key = 'abc'\n",
    "aws_secret_key = 'abc'\n",
    "bucket_name = 'yelp-review-ss'"
   ]
  },
  {
   "cell_type": "code",
   "execution_count": null,
   "id": "39c4e9a7",
   "metadata": {},
   "outputs": [],
   "source": [
    "# To Upload to S3\n",
    "def upload_to_s3(file_name, bucket, access_key, secret_key, object_name=None):\n",
    "    \"\"\"\n",
    "    Upload a file to an S3 bucket using specific AWS credentials\n",
    "\n",
    "    :param file_name: File to upload\n",
    "    :param bucket: Bucket to upload to\n",
    "    :param access_key: AWS Access Key ID\n",
    "    :param secret_key: AWS Secret Access Key\n",
    "    :param object_name: S3 object name. If not specified, file_name is used\n",
    "    :return: True if file was uploaded, else False\n",
    "    \"\"\"\n",
    "\n",
    "    # If S3 object_name was not specified, use file_name\n",
    "    if object_name is None:\n",
    "        object_name = file_name\n",
    "\n",
    "    # Create an S3 client with the provided credentials\n",
    "    s3_client = boto3.client(\n",
    "        's3',\n",
    "        aws_access_key_id=access_key,\n",
    "        aws_secret_access_key=secret_key\n",
    "    )\n",
    "\n",
    "    try:\n",
    "        s3_client.upload_file(file_name, bucket, object_name)\n",
    "        return True\n",
    "    except NoCredentialsError:\n",
    "        print(\"Credentials not available or invalid\")\n",
    "        return False"
   ]
  },
  {
   "cell_type": "code",
   "execution_count": null,
   "id": "fdcf5fbf",
   "metadata": {},
   "outputs": [],
   "source": [
    "file_path = 'yelp_dataset.tgz'\n",
    "uploaded = upload_to_s3(file_path, bucket_name, aws_access_key, aws_secret_key)\n",
    "\n",
    "file_path = 'yelp_academic_dataset_user.json'\n",
    "uploaded = upload_to_s3(file_path, bucket_name, aws_access_key, aws_secret_key)\n",
    "\n",
    "file_path = 'yelp_academic_dataset_tip.json'\n",
    "uploaded = upload_to_s3(file_path, bucket_name, aws_access_key, aws_secret_key)\n",
    "\n",
    "file_path = 'yelp_academic_dataset_review.json'\n",
    "uploaded = upload_to_s3(file_path, bucket_name, aws_access_key, aws_secret_key)\n",
    "\n",
    "file_path = 'yelp_academic_dataset_business.json'\n",
    "uploaded = upload_to_s3(file_path, bucket_name, aws_access_key, aws_secret_key)"
   ]
  }
 ],
 "metadata": {
  "kernelspec": {
   "display_name": "Python 3 (ipykernel)",
   "language": "python",
   "name": "python3"
  },
  "language_info": {
   "codemirror_mode": {
    "name": "ipython",
    "version": 3
   },
   "file_extension": ".py",
   "mimetype": "text/x-python",
   "name": "python",
   "nbconvert_exporter": "python",
   "pygments_lexer": "ipython3",
   "version": "3.11.5"
  }
 },
 "nbformat": 4,
 "nbformat_minor": 5
}
